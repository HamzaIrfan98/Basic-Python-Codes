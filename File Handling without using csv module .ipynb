{
 "cells": [
  {
   "cell_type": "code",
   "execution_count": 5,
   "metadata": {},
   "outputs": [
    {
     "name": "stdout",
     "output_type": "stream",
     "text": [
      "['10', '20', '55', '80', '99', 'abc', 'def', '30.5']\n"
     ]
    }
   ],
   "source": [
    "#Reading Data from a File\n",
    "\n",
    "data = []\n",
    "f = open('file1.txt','r')\n",
    "for row in f:\n",
    "    r = row.strip('\\n')   #Ignoring the new line character to appear.\n",
    "    data.append(r)\n",
    "\n",
    "f.close()\n",
    "\n",
    "print(data)"
   ]
  },
  {
   "cell_type": "code",
   "execution_count": 6,
   "metadata": {},
   "outputs": [],
   "source": [
    "#Writing Data to a file\n",
    "\n",
    "new_data = ['alpha','beta','gamma','zetta']\n",
    "with open('file2.txt', 'w') as g:\n",
    "    for value in new_data:\n",
    "        g.write(value)\n",
    "        g.write('\\n')   #Write next entry in next line\n",
    "        \n",
    "g.close()"
   ]
  },
  {
   "cell_type": "code",
   "execution_count": 7,
   "metadata": {},
   "outputs": [],
   "source": [
    "#Appending Data to the previously created file\n",
    "\n",
    "add_data = ['epsilon', 'delta','theta']\n",
    "with open('file2.txt','a') as h:\n",
    "    for value in add_data:\n",
    "        h.write(value)\n",
    "        h.write('\\n')\n",
    "        \n",
    "h.close()"
   ]
  },
  {
   "cell_type": "code",
   "execution_count": null,
   "metadata": {},
   "outputs": [],
   "source": []
  }
 ],
 "metadata": {
  "kernelspec": {
   "display_name": "Python 3",
   "language": "python",
   "name": "python3"
  },
  "language_info": {
   "codemirror_mode": {
    "name": "ipython",
    "version": 3
   },
   "file_extension": ".py",
   "mimetype": "text/x-python",
   "name": "python",
   "nbconvert_exporter": "python",
   "pygments_lexer": "ipython3",
   "version": "3.8.5"
  }
 },
 "nbformat": 4,
 "nbformat_minor": 4
}
