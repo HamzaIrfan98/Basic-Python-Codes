{
 "cells": [
  {
   "cell_type": "code",
   "execution_count": null,
   "metadata": {},
   "outputs": [],
   "source": [
    "#Check Palindrome\n",
    "\n",
    "def func5(string):\n",
    "    j=len(string)-1\n",
    "    while j >= j/2:\n",
    "        for i in string:\n",
    "            if i == string[j]:\n",
    "                j=j-1\n",
    "            else:\n",
    "                return False\n",
    "        print(\"It is a palindrome\")\n",
    "\n",
    "func5('racecar')"
   ]
  }
 ],
 "metadata": {
  "kernelspec": {
   "display_name": "Python 3",
   "language": "python",
   "name": "python3"
  }
 },
 "nbformat": 4,
 "nbformat_minor": 4
}
