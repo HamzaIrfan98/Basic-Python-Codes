{
 "cells": [
  {
   "cell_type": "code",
   "execution_count": null,
   "metadata": {},
   "outputs": [],
   "source": [
    "#Intersection of 2 arrays\n",
    "\n",
    "def func6(list1, list2):\n",
    "    return [i for i in list1 if i in list2]\n",
    "\n",
    "#Generating the arrays randomly\n",
    "import random\n",
    "x=random.sample(range(10,30),6)\n",
    "y=random.sample(range(10,30),8)\n",
    "print(\"X= {}\".format(x))\n",
    "print(\"Y= {}\".format(y))\n",
    "func6(x,y)"
   ]
  },
  {
   "cell_type": "code",
   "execution_count": null,
   "metadata": {},
   "outputs": [],
   "source": []
  }
 ],
 "metadata": {
  "kernelspec": {
   "display_name": "Python 3",
   "language": "python",
   "name": "python3"
  }
 },
 "nbformat": 4,
 "nbformat_minor": 4
}
