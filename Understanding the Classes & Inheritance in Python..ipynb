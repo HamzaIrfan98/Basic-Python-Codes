{
 "cells": [
  {
   "cell_type": "code",
   "execution_count": 24,
   "metadata": {},
   "outputs": [],
   "source": [
    "class vegetables:\n",
    "    \n",
    "    def __init__(self, name, nutrients):\n",
    "        try:\n",
    "            assert type(nutrients) == list\n",
    "        except AssertionError:\n",
    "            print('Add the list !')\n",
    "            raise Exception\n",
    "        \n",
    "        self.name = name\n",
    "        self.nutrients = nutrients\n",
    "        self.is_ripe = False\n",
    "        \n",
    "    def get_name(self):\n",
    "        return self.name\n",
    "    \n",
    "    def get_nutrients(self):\n",
    "        for i in self.nutrients:\n",
    "            print(i)\n",
    "    \n",
    "    def check_ripeness(self):\n",
    "        return self.is_ripe\n",
    "    \n",
    "    def ripen_fruit(self):\n",
    "        self.is_ripe=True\n",
    "        "
   ]
  },
  {
   "cell_type": "code",
   "execution_count": null,
   "metadata": {},
   "outputs": [],
   "source": [
    "class Leafy(vegetables):\n",
    "    def __init__(self, name, nutrients):\n",
    "        super().__init__(name, nutrients)\n",
    "        self.type = 'leafy'\n",
    "        self.characteristics = 'Freshy and healthy'\n",
    "        \n",
    "    def get_type(self):\n",
    "        return self.type"
   ]
  },
  {
   "cell_type": "code",
   "execution_count": null,
   "metadata": {},
   "outputs": [],
   "source": [
    "spinach=Leafy('spinach',['iron','Vit c','Potassium','Vit D'])"
   ]
  },
  {
   "cell_type": "code",
   "execution_count": null,
   "metadata": {},
   "outputs": [],
   "source": [
    "spinach.get_nutrients()"
   ]
  },
  {
   "cell_type": "code",
   "execution_count": null,
   "metadata": {},
   "outputs": [],
   "source": [
    "spinach.ripen_fruit()"
   ]
  },
  {
   "cell_type": "code",
   "execution_count": null,
   "metadata": {},
   "outputs": [],
   "source": [
    "spinach.check_ripeness()"
   ]
  },
  {
   "cell_type": "code",
   "execution_count": null,
   "metadata": {},
   "outputs": [],
   "source": [
    "spinach.get_type()"
   ]
  },
  {
   "cell_type": "code",
   "execution_count": null,
   "metadata": {},
   "outputs": [],
   "source": []
  },
  {
   "cell_type": "code",
   "execution_count": null,
   "metadata": {},
   "outputs": [],
   "source": []
  }
 ],
 "metadata": {
  "kernelspec": {
   "display_name": "Python 3",
   "language": "python",
   "name": "python3"
  },
  "language_info": {
   "codemirror_mode": {
    "name": "ipython",
    "version": 3
   },
   "file_extension": ".py",
   "mimetype": "text/x-python",
   "name": "python",
   "nbconvert_exporter": "python",
   "pygments_lexer": "ipython3",
   "version": "3.8.5"
  }
 },
 "nbformat": 4,
 "nbformat_minor": 4
}
