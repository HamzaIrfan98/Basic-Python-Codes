{
 "cells": [
  {
   "cell_type": "code",
   "execution_count": null,
   "metadata": {},
   "outputs": [],
   "source": [
    "#Guess a number\n",
    "\n",
    "import random\n",
    "\n",
    "game='c'\n",
    "while game != 'e':\n",
    "    x=random.randint(1,9)\n",
    "    y='lmno'\n",
    "    count=0\n",
    "    while x != y:\n",
    "        y=int(input(\"Guess the number (1 - 9):\"))\n",
    "        count=count+1\n",
    "        if x == y:\n",
    "            print(\"Congratulations! You guessed correctly this time. \\n\")\n",
    "            print(\"You took {} attempts to guess the correct number\".format(count))\n",
    "            game=input(\"Press 'c' to continue \\nOR 'e' to exit\")\n",
    "        elif y>x and y<=9 and y>0:\n",
    "            print(\"The number you guessed is too high. Guess again. \\n\")\n",
    "        elif x>y and y<=9 and y>0:\n",
    "            print(\"The number you guessed is too low. Guess again. \\n\")\n",
    "        else:\n",
    "            print(\"Wrong input! Please enter a no between 1 and 9 only\")\n",
    "\n",
    "print(\"Thanks for playing with us !\")"
   ]
  },
  {
   "cell_type": "code",
   "execution_count": null,
   "metadata": {},
   "outputs": [],
   "source": []
  }
 ],
 "metadata": {
  "kernelspec": {
   "display_name": "Python 3",
   "language": "python",
   "name": "python3"
  }
 },
 "nbformat": 4,
 "nbformat_minor": 4
}
