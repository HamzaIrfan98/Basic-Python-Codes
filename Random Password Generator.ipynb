{
 "cells": [
  {
   "cell_type": "code",
   "execution_count": null,
   "metadata": {},
   "outputs": [],
   "source": [
    "#Random Password Generator with 2 uppercase, 2 lowercase, 2 digits, and 2 symbols.\n",
    "\n",
    "import random\n",
    "\n",
    "uppercase1 = chr(random.randint(65,90))\n",
    "uppercase2 = chr(random.randint(65,90))\n",
    "lowercase1 = chr(random.randint(97,122))\n",
    "lowercase2 = chr(random.randint(97,122))\n",
    "digit1 = chr(random.randint(48,57))\n",
    "digit2 = chr(random.randint(48,57))\n",
    "punc_sign1 = chr(random.randint(32,47))\n",
    "punc_sign2 = chr(random.randint(32,47))\n",
    "\n",
    "passwd = uppercase1+uppercase2+lowercase1+lowercase2+digit1+digit2+punc_sign1+punc_sign2\n",
    "print(passwd)\n",
    "\n",
    "#Shuffling the keys randomly\n",
    "\n",
    "templist=list(passwd)\n",
    "random.shuffle(templist)\n",
    "passwd=(\"\".join(templist))\n",
    "print(passwd)"
   ]
  },
  {
   "cell_type": "code",
   "execution_count": null,
   "metadata": {},
   "outputs": [],
   "source": []
  }
 ],
 "metadata": {
  "kernelspec": {
   "display_name": "Python 3",
   "language": "python",
   "name": "python3"
  }
 },
 "nbformat": 4,
 "nbformat_minor": 4
}
