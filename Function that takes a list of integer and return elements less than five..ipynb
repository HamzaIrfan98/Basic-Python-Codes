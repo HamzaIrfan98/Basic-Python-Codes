{
 "cells": [
  {
   "cell_type": "code",
   "execution_count": 1,
   "metadata": {},
   "outputs": [],
   "source": [
    "def func2(list1):\n",
    "    list2=[]\n",
    "    for i in list1:\n",
    "        if i<5:\n",
    "            list2.append(i)\n",
    "    print(list2)"
   ]
  },
  {
   "cell_type": "code",
   "execution_count": 2,
   "metadata": {},
   "outputs": [
    {
     "name": "stdout",
     "output_type": "stream",
     "text": [
      "Enter the INTEGER elements of the list; press any alphabet after completing entries: \n",
      "55\n",
      "65\n",
      "10\n",
      "2\n",
      "3\n",
      "41\n",
      "5\n",
      "1\n",
      "4\n",
      "2\n",
      "3\n",
      "6\n",
      "7\n",
      "2\n",
      "e\n",
      "[2, 3, 1, 4, 2, 3, 2]\n"
     ]
    }
   ],
   "source": [
    "print(\"Enter the INTEGER elements of the list; press any alphabet after completing entries: \")\n",
    "\n",
    "try:\n",
    "    my_list=[]\n",
    "    \n",
    "    while True:\n",
    "        my_list.append(int(input()))\n",
    "        \n",
    "except:\n",
    "    func2(my_list)\n",
    "\n",
    "\n"
   ]
  },
  {
   "cell_type": "code",
   "execution_count": null,
   "metadata": {},
   "outputs": [],
   "source": []
  }
 ],
 "metadata": {
  "kernelspec": {
   "display_name": "Python 3",
   "language": "python",
   "name": "python3"
  },
  "language_info": {
   "codemirror_mode": {
    "name": "ipython",
    "version": 3
   },
   "file_extension": ".py",
   "mimetype": "text/x-python",
   "name": "python",
   "nbconvert_exporter": "python",
   "pygments_lexer": "ipython3",
   "version": "3.8.5"
  }
 },
 "nbformat": 4,
 "nbformat_minor": 4
}
