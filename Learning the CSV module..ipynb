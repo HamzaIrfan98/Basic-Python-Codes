{
 "cells": [
  {
   "cell_type": "code",
   "execution_count": 3,
   "metadata": {},
   "outputs": [],
   "source": [
    "import csv\n",
    "file=\"C:\\\\Users\\hamza\\python codes\\Score.csv\"\n",
    "data=[('Hamza',2.8),('Abuzar',2.9),('Tabish',3.1),('Rohab',2.5),('Ubaid',2.5)]\n",
    "writer=csv.writer(open (file, 'w', newline=''))\n",
    "\n",
    "for row in data:\n",
    "    writer.writerow(row)"
   ]
  },
  {
   "cell_type": "code",
   "execution_count": 6,
   "metadata": {},
   "outputs": [
    {
     "name": "stdout",
     "output_type": "stream",
     "text": [
      "['Hamza', '2.8']\n",
      "['Abuzar', '2.9']\n",
      "['Tabish', '3.1']\n",
      "['Rohab', '2.5']\n",
      "['Ubaid', '2.5']\n"
     ]
    }
   ],
   "source": [
    "#import csv\n",
    "#file=\"C:\\\\Users\\hamza\\python codes\\Score.csv\"\n",
    "\n",
    "reader = csv.reader(open(file,'r'))\n",
    "\n",
    "#header=reader.__next__()\n",
    "\n",
    "\n",
    "for row in reader:\n",
    "    print(row)"
   ]
  },
  {
   "cell_type": "code",
   "execution_count": null,
   "metadata": {},
   "outputs": [],
   "source": []
  }
 ],
 "metadata": {
  "kernelspec": {
   "display_name": "Python 3",
   "language": "python",
   "name": "python3"
  },
  "language_info": {
   "codemirror_mode": {
    "name": "ipython",
    "version": 3
   },
   "file_extension": ".py",
   "mimetype": "text/x-python",
   "name": "python",
   "nbconvert_exporter": "python",
   "pygments_lexer": "ipython3",
   "version": "3.8.5"
  }
 },
 "nbformat": 4,
 "nbformat_minor": 4
}
