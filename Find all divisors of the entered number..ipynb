{
 "cells": [
  {
   "cell_type": "code",
   "execution_count": null,
   "metadata": {},
   "outputs": [],
   "source": [
    "#Find all the divisors of a given number\n",
    "\n",
    "def func4(num):\n",
    "    list1=[]\n",
    "    x=[*range(1,num+1)]\n",
    "    for i in x:\n",
    "        if num%i == 0:\n",
    "            list1.append(i)\n",
    "        \n",
    "    z= \"List of divisors of {} is:  {}.\".format(num, list1)\n",
    "    print(z)"
   ]
  },
  {
   "cell_type": "code",
   "execution_count": null,
   "metadata": {},
   "outputs": [],
   "source": [
    "y=int(input('Please Enter a number:'))\n",
    "func4(y)"
   ]
  },
  {
   "cell_type": "code",
   "execution_count": null,
   "metadata": {},
   "outputs": [],
   "source": []
  }
 ],
 "metadata": {
  "kernelspec": {
   "display_name": "Python 3",
   "language": "python",
   "name": "python3"
  }
 },
 "nbformat": 4,
 "nbformat_minor": 4
}
