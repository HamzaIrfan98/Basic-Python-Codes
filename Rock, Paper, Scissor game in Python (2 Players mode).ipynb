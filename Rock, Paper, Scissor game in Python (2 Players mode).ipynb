{
 "cells": [
  {
   "cell_type": "code",
   "execution_count": null,
   "metadata": {},
   "outputs": [],
   "source": [
    "# 2 players Rock, Paper, Scissor\n",
    "\n",
    "print(\"Rules & Guidelines: \\n Rock beats Scissor \\n Scissor beats Paper \\n Paper beats Rock \\n \\n *******************\\nUse following keys: \\n \\n 'r' for 'Rock' \\n 'p' for Paper \\n 's' for Scissor \")\n",
    "again='y'\n",
    "\n",
    "choices=['r','p','s']\n",
    "results=['Its a DRAW','PLAYER- 1 is Winner','PLAYER- 2 is winner']\n",
    "\n",
    "while again.lower()=='y':\n",
    "    p1=input(\"Player 1 !!! It's your turn: \").lower()\n",
    "    p2=input(\"Player 2 !!! It's your turn: \").lower()\n",
    "    \n",
    "    winner = choices.index(p1)-choices.index(p2)\n",
    "    print(results[winner])\n",
    "    \n",
    "    again=input(\"Press 'y' for another game , 'n' for finishing \").lower()\n"
   ]
  },
  {
   "cell_type": "code",
   "execution_count": null,
   "metadata": {},
   "outputs": [],
   "source": []
  }
 ],
 "metadata": {
  "kernelspec": {
   "display_name": "Python 3",
   "language": "python",
   "name": "python3"
  }
 },
 "nbformat": 4,
 "nbformat_minor": 4
}
